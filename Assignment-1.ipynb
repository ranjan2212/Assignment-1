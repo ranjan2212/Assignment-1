{
 "cells": [
  {
   "cell_type": "markdown",
   "id": "a09fc256",
   "metadata": {},
   "source": [
    "# Question-1. In the below elements which of them are values or an expression? eg:- values can be integer or string and expressions will be mathematical operators.\n",
    "*\n",
    "'hello'\n",
    "-87.8\n",
    "-\n",
    "/\n",
    "+\n",
    "6"
   ]
  },
  {
   "cell_type": "markdown",
   "id": "df4e38c4",
   "metadata": {},
   "source": [
    "A.1 Values and expressions can be identified as follows:\n",
    "\n",
    "Values:\n",
    "*'hello'-string value\n",
    "*-87.8 - float value\n",
    "*6 - int value\n",
    "\n",
    "Expressions:\n",
    "- (subtraction operator)\n",
    "/ (division operator)\n",
    "+ (addition operator)\n",
    "\n",
    "-> Values are actual data , such as strings or numbers, while expressions operator are used to perform mathematical and computational operations"
   ]
  },
  {
   "cell_type": "markdown",
   "id": "a511c881",
   "metadata": {},
   "source": [
    "# Question-2.What is the difference between string and variable?"
   ]
  },
  {
   "cell_type": "markdown",
   "id": "afe847e8",
   "metadata": {},
   "source": [
    "A.2 So the difference between string and variable is as follows:\n",
    "\n",
    "String: Represent textual data in programming.It's sequence of character enclosed within quotes. Eg. \"Elephant\"\n",
    "\n",
    "Variable: It's a named storage location that holds a value in program. Storing and manipulating data during execution of program. Variables can hold different types of data including strings, numbers, boolean values & more.\n",
    "\n",
    "Values are assigned using assignment operator(=)\n",
    "Eg. age=55"
   ]
  },
  {
   "cell_type": "markdown",
   "id": "d23e2925",
   "metadata": {},
   "source": [
    "# Question-3.Describe three different data types?"
   ]
  },
  {
   "cell_type": "markdown",
   "id": "88a83af2",
   "metadata": {},
   "source": [
    " A.3 So three different data types are :\n",
    " \n",
    " int(), str(), bool()\n",
    " \n",
    " Integer(int):Only contains integer data types like whole numbers without decimal points.It contains bot negative and positive number including zero.Eg. age=35\n",
    " \n",
    " string(str):It contains sequence of character enclosed within quotes.They allow operations like concatenation, slicing and searching for specific patterns.Eg. name= \"Deepak\"\n",
    " \n",
    " Boolean(bool):It represents logical values, indicating either true or false.Used in decision making and controlling flow structures.\n",
    " is_birthday = True\n",
    "    "
   ]
  },
  {
   "cell_type": "markdown",
   "id": "ff5857fa",
   "metadata": {},
   "source": [
    "# Question-4.What is an expression made up of? What do all expressions do?"
   ]
  },
  {
   "cell_type": "markdown",
   "id": "d4e45ae7",
   "metadata": {},
   "source": [
    "A.4 An expression is made up of one or more operands and operator.It combines values, variables and operators to give new value.\n",
    "In an expression, operands can be literal values(such as numbers or strings)and variable holds the value.\n",
    "\n",
    "Eg. of expression:\n",
    "->Simple arithmetic expression\n",
    "  c=2+5\n",
    "->Complex arithmetic expression\n",
    "  c=(2+5)/7*1\n",
    "->Comparison expression\n",
    "  is_lesser = 5>2\n",
    "returns boolean value to the variable"
   ]
  },
  {
   "cell_type": "markdown",
   "id": "92beb2a7",
   "metadata": {},
   "source": [
    "# Question-5.This assignment statements, like spam = 10. What is the difference between an expression and a statement?"
   ]
  },
  {
   "cell_type": "markdown",
   "id": "b7cd5831",
   "metadata": {},
   "source": [
    "A.5 Some key differences between expression and statement.\n",
    "\n",
    "Expressions evaluate to a value, while statements do not.\n",
    "\n",
    "An expression is a combination of values, variables, operators, and function calls that produces a result when evaluated.\n",
    " \n",
    "Examples of expressions include 2 + 3, x * y, or math.sqrt(16).Expressions can be used within statements.\n",
    " \n",
    "A statement is a complete unit of code that performs a specific action or control flow operation. It represents a complete instruction in a program. They don't produce a value like expressions do.\n",
    "\n",
    "Examples of statements include variable assignments (spam = 10), conditional statements (if, else, elif), loops (for, while), function definitions, and function calls.\n",
    "\n",
    "We can use expression within statement to get the logic or value, while statement controls the flow of program.\n"
   ]
  },
  {
   "cell_type": "markdown",
   "id": "5649ba49",
   "metadata": {},
   "source": [
    "# Question-6. After running the following code, what does the variable bacon contain?\n",
    "\n",
    "bacon = 22\n",
    "bacon + 1"
   ]
  },
  {
   "cell_type": "markdown",
   "id": "fa91c618",
   "metadata": {},
   "source": [
    "A.6 Here the variable bacon contains the value 22.The expression bacon + 1 does not update the value of bacon itself; it only calculates the result of adding 1 to the current value of bacon. If you want to update the value of bacon, you would need to assign the result back to the variable, like this:\n",
    "\n",
    "bacon = 22\n",
    "bacon = bacon + 1\n",
    "\n",
    "After executing this line bacon's value will be incremented to 23."
   ]
  },
  {
   "cell_type": "markdown",
   "id": "d43252ce",
   "metadata": {},
   "source": [
    "# Question-7. What should the values of the following two terms be?\n",
    "'spam' + 'spamspam'\n",
    "'spam' * 3"
   ]
  },
  {
   "cell_type": "markdown",
   "id": "b33b0472",
   "metadata": {},
   "source": [
    "A.7 The value of 'spam'+''spamspam' should be ''spamspamspam'.This is because +operator is used to concatenate string.\n",
    "\n",
    "Also the value of 'spam'*3 will be equal to 'spamspamspam'.This is because *operator is used to repeat a string a specified number of times."
   ]
  },
  {
   "cell_type": "markdown",
   "id": "46322a75",
   "metadata": {},
   "source": [
    "# Question-8.Why is eggs a valid variable name while 100 is invalid?"
   ]
  },
  {
   "cell_type": "markdown",
   "id": "a1dc8491",
   "metadata": {},
   "source": [
    "A.8 In python variable follows few rules:\n",
    "    *They must start with a letter or underscore(_) character.\n",
    "    *They can only contain letters numbers and underscore character.\n",
    "    *They cannot be same as keyword.\n",
    "    \n",
    "Hence since, eggs follow all the rules and fulfill all conditions,it's set to be a valid variable,while 100 is not and is invalid."
   ]
  },
  {
   "cell_type": "markdown",
   "id": "6019913b",
   "metadata": {},
   "source": [
    "# Question-9.What three functions can be used to get the integer, floating-point number, or string version of a value?"
   ]
  },
  {
   "cell_type": "markdown",
   "id": "5c47889c",
   "metadata": {},
   "source": [
    "A.9 The three functions that can be used to get the integer,floating point number or string version of a value are:\n",
    "    *int():This function can be used to convert a value to integer.It returns whole number part of the value. Eg. \n",
    "        a=int(3.14)\n",
    "        print(a)     #Output will be 3\n",
    "    *float():This function is used to convert a value to a floating point number.It will add decimal places to represent the          value accurately.Eg.\n",
    "        a=float(3)\n",
    "        print(a)     #Output will be 3.0\n",
    "    *str():This value converts a value to its string representation. It can be used to convert any value to string.Eg.\n",
    "        a=str(3)\n",
    "        b=str(3)\n",
    "        c=a+b\n",
    "        print(c)     #output  33"
   ]
  },
  {
   "cell_type": "code",
   "execution_count": 2,
   "id": "89874629",
   "metadata": {},
   "outputs": [
    {
     "name": "stdout",
     "output_type": "stream",
     "text": [
      "33\n"
     ]
    }
   ],
   "source": [
    "a=str(3)\n",
    "b=str(3)\n",
    "c=a+b\n",
    "print(c)"
   ]
  },
  {
   "cell_type": "markdown",
   "id": "9c6b66da",
   "metadata": {},
   "source": [
    "# Question-10.Why does this expression cause an error? How can you fix it?\n",
    "\n",
    "'I have eaten' + 99 +'burritos'"
   ]
  },
  {
   "cell_type": "markdown",
   "id": "16ff3600",
   "metadata": {},
   "source": [
    "A.10 This expression is causing an error because, we are trying to concatenate a string with an integer which is not possible, until we convert the type of int to str.\n",
    "\n",
    "For that we need to write the code as follows:"
   ]
  },
  {
   "cell_type": "code",
   "execution_count": 6,
   "id": "447f45c8",
   "metadata": {},
   "outputs": [
    {
     "name": "stdout",
     "output_type": "stream",
     "text": [
      " I have eaten 99 burritos \n"
     ]
    }
   ],
   "source": [
    "a=' I have eaten '+ str(99) +' burritos '\n",
    "print(a)"
   ]
  },
  {
   "cell_type": "markdown",
   "id": "74f11f7c",
   "metadata": {},
   "source": [
    "eg. using f-string formatting\n",
    "    "
   ]
  },
  {
   "cell_type": "code",
   "execution_count": 12,
   "id": "abac4857",
   "metadata": {},
   "outputs": [
    {
     "name": "stdout",
     "output_type": "stream",
     "text": [
      "I have eaten 99 burritos.\n"
     ]
    }
   ],
   "source": [
    "result= f'I have eaten {99} burritos.'\n",
    "print(result)"
   ]
  },
  {
   "cell_type": "code",
   "execution_count": null,
   "id": "8254e6ae",
   "metadata": {},
   "outputs": [],
   "source": []
  }
 ],
 "metadata": {
  "kernelspec": {
   "display_name": "Python 3 (ipykernel)",
   "language": "python",
   "name": "python3"
  },
  "language_info": {
   "codemirror_mode": {
    "name": "ipython",
    "version": 3
   },
   "file_extension": ".py",
   "mimetype": "text/x-python",
   "name": "python",
   "nbconvert_exporter": "python",
   "pygments_lexer": "ipython3",
   "version": "3.10.9"
  }
 },
 "nbformat": 4,
 "nbformat_minor": 5
}
